{
  "nbformat": 4,
  "nbformat_minor": 0,
  "metadata": {
    "colab": {
      "provenance": [],
      "include_colab_link": true
    },
    "kernelspec": {
      "name": "python3",
      "display_name": "Python 3"
    },
    "language_info": {
      "name": "python"
    }
  },
  "cells": [
    {
      "cell_type": "markdown",
      "metadata": {
        "id": "view-in-github",
        "colab_type": "text"
      },
      "source": [
        "<a href=\"https://colab.research.google.com/github/Frodo-Swaggins/COMP702PROJECT/blob/main/COMP719_Project.ipynb\" target=\"_parent\"><img src=\"https://colab.research.google.com/assets/colab-badge.svg\" alt=\"Open In Colab\"/></a>"
      ]
    },
    {
      "cell_type": "markdown",
      "source": [
        "Code Reference: https://medium.com/walmartglobaltech/automating-shift-scheduling-with-linear-programming-fe1720f13620"
      ],
      "metadata": {
        "id": "wE_PO4qieXZh"
      }
    },
    {
      "cell_type": "markdown",
      "source": [
        "Import Libraries"
      ],
      "metadata": {
        "id": "SUcZnwY2d2Ap"
      }
    },
    {
      "cell_type": "code",
      "execution_count": 1,
      "metadata": {
        "id": "0EpvbhGedsz3",
        "colab": {
          "base_uri": "https://localhost:8080/"
        },
        "outputId": "2b593256-1dc1-48ca-f7eb-e24e2f03d716"
      },
      "outputs": [
        {
          "output_type": "stream",
          "name": "stdout",
          "text": [
            "Looking in indexes: https://pypi.org/simple, https://us-python.pkg.dev/colab-wheels/public/simple/\n",
            "Collecting pulp\n",
            "  Downloading PuLP-2.6.0-py3-none-any.whl (14.2 MB)\n",
            "\u001b[K     |████████████████████████████████| 14.2 MB 5.4 MB/s \n",
            "\u001b[?25hInstalling collected packages: pulp\n",
            "Successfully installed pulp-2.6.0\n"
          ]
        }
      ],
      "source": [
        "!pip install pulp"
      ]
    },
    {
      "cell_type": "code",
      "source": [
        "from pulp import *\n",
        "import pandas as pd"
      ],
      "metadata": {
        "id": "30Efpw_Orfjt"
      },
      "execution_count": 2,
      "outputs": []
    },
    {
      "cell_type": "code",
      "source": [
        "def setSensitivity():\n",
        "  global employees, days, min_employeepershift_val, max_consecuvtive_days_off, level, max_consecutive_days_work\n",
        "  print('Enter number of employees that are currently hired')\n",
        "  num_of_employees = int(input())\n",
        "  print('Enter number of days in a schedule cycle')\n",
        "  num_of_days = int(input())\n",
        "  print('Enter the minimum number of employees require per shift')\n",
        "  min_employees_per_shift = int(input())\n",
        "  print('Enter the maximum number of consecutive days an employee can be on leave for')\n",
        "  max_consecutive_days_leave= int(input())\n",
        "  print('Enter level')\n",
        "  lev = int(input())\n",
        "  print('Enter the maximum number of consecutive days an employee can work for')\n",
        "  max_consecutive_days_on = int(input())\n",
        "  \n",
        "  #Minimum Inputs - Resource list \n",
        "  employees = num_of_employees\n",
        "  days = num_of_days\n",
        "  #minimum number of nurses needed for a= single shift\n",
        "  min_employeepershift_val = min_employees_per_shift\n",
        "  #max consecutive days a nurse can work\n",
        "  max_consecutive_days_off = 2#max_consecutive_days_leave#Can be lowered but not necessary\n",
        "  #as level increases by one the amount of overall resources is doubles\n",
        "  level = lev\n",
        "  #max number of days an employee can work consecutively\n",
        "  max_consecutive_days_work = max_consecutive_days_on"
      ],
      "metadata": {
        "id": "2yVdnK6_iozr"
      },
      "execution_count": 3,
      "outputs": []
    },
    {
      "cell_type": "code",
      "source": [
        "def addConstraintOne():\n",
        "  #constraint 1\n",
        "  global model, var_M, var_E, var_L, employees, days\n",
        "  # each employee can work at most one shift per day or be on leave on that day\n",
        "  for i in range(days):\n",
        "      for j in range(employees):\n",
        "          numShifts = None\n",
        "          numShifts += var_M[i][j] + var_E[i][j] + var_L[i][j]\n",
        "          model += numShifts == 1"
      ],
      "metadata": {
        "id": "ioONbUNtjYf-"
      },
      "execution_count": 4,
      "outputs": []
    },
    {
      "cell_type": "code",
      "source": [
        "def addConstraintTwo():\n",
        "  #constraint 2\n",
        "  #we should ensure the minimum required staff for a sgift is met\n",
        "  global model, var_M, var_E, min_employeepershift_val, employees, days\n",
        "  for i in range(0, days):\n",
        "      numworkingmorningshift = None\n",
        "      numworkingeveningshift = None    \n",
        "      for j in range(employees):\n",
        "          numworkingmorningshift += var_M[i][j]\n",
        "          numworkingeveningshift += var_E[i][j]\n",
        "\n",
        "      model += numworkingmorningshift == min_employeepershift_val#== -> >=\n",
        "      model += numworkingeveningshift == min_employeepershift_val\n",
        "  "
      ],
      "metadata": {
        "id": "s6w6PqOGjcen"
      },
      "execution_count": 5,
      "outputs": []
    },
    {
      "cell_type": "code",
      "source": [
        "def addConstraintThree():\n",
        "  #constraint 3\n",
        "  global model, var_M, var_E, employees, days\n",
        "  #employee should work the same shift the next the next day\n",
        "  for j in range(employees):\n",
        "      for i in range(days - 1):\n",
        "        constraint = None\n",
        "        #on 2 consecutive day a specific employee should be working the same shift\n",
        "        constraint += var_M[i][j] + var_E[i+1][j]\n",
        "        model += constraint <= 1\n",
        "\n",
        "      for j in range(employees):\n",
        "          for i in range(days - 1):\n",
        "              if ((i + 1) % days != 0) and ((i + 2) % days != 0):\n",
        "                constraint = None\n",
        "                constraint += var_E[i][j] + var_M[i+1][j]\n",
        "                model += constraint <= 1"
      ],
      "metadata": {
        "id": "cgvZR7-mjqjv"
      },
      "execution_count": 6,
      "outputs": []
    },
    {
      "cell_type": "code",
      "source": [
        "def addConstraintFour():\n",
        "  #constraint 4\n",
        "  global model, var_M, employees, days\n",
        "  #every 2 weeks nurses have their shifts switched\n",
        "  for j in range(employees):\n",
        "      for i in range(0, days - (days*2), 2):\n",
        "          constraint = None\n",
        "          constraint += var_M[i][j] + var_M[i+days][j] + var_M[i+(days*2)][j]\n",
        "          model += constraint <= 2"
      ],
      "metadata": {
        "id": "KvVKZe6nkF49"
      },
      "execution_count": 7,
      "outputs": []
    },
    {
      "cell_type": "code",
      "source": [
        "def addConstraintFive():\n",
        "  #constraint 5\n",
        "  global model, var_M, var_E, max_consecutive_days_work, employees, days\n",
        "  #a nurse can work at most 5 days in a row\n",
        "  for j in range(employees):\n",
        "      for i in range(0, days- (days-1)):\n",
        "        consecutiveDaysWorked = None\n",
        "        for w in range(days):\n",
        "            consecutiveDaysWorked += var_M[i+w][j] + var_E[i+w][j]\n",
        "        model += consecutiveDaysWorked <= max_consecutive_days_work"
      ],
      "metadata": {
        "id": "IFn-9XLtkKNF"
      },
      "execution_count": 8,
      "outputs": []
    },
    {
      "cell_type": "code",
      "source": [
        "def addConstraintSix():\n",
        "  #constraint 6\n",
        "  global model, max_consecutive_days_off, var_L, employees, days\n",
        "  #nurses can have at most a certia number of days of consecutive days off\n",
        "  #max_consecutive_leave= 2\n",
        "  for j in range(employees):\n",
        "      for i in range(0, days-2):\n",
        "        consecutiveDaysLeave = None\n",
        "        consecutiveDaysLeave += var_L[i][j] - var_L[i+1][j] + var_L[i+2][j] \n",
        "        model += consecutiveDaysLeave <= max_consecutive_days_off"
      ],
      "metadata": {
        "id": "nby-l04pkSMp"
      },
      "execution_count": 9,
      "outputs": []
    },
    {
      "cell_type": "code",
      "source": [
        "def solveModel():\n",
        "  global model\n",
        "  # Solve problem. Whole tasks is passes pulp framework!\n",
        "  #status = problem.solve(problem)# If pulp can find optimal values which satisfies conditions, print “Optimal”\n",
        "  status = model.solve()\n",
        "  print('Status: ', LpStatus[status])\n",
        "  #Objective function value with all constraints satisfied\n",
        "  print('Objective = ',value(model.objective))"
      ],
      "metadata": {
        "id": "PZO9HyBGkYBu"
      },
      "execution_count": 10,
      "outputs": []
    },
    {
      "cell_type": "code",
      "source": [
        "# Global variables\n",
        "\n",
        "#Minimum Inputs - Resource list \n",
        "employees = 0\n",
        "days = 0\n",
        "#minimum number of nurses needed for a= single shift\n",
        "min_employeepershift_val = 0\n",
        "#max consecutive days a nurse can work\n",
        "max_consecutive_days_off = 0#Can be lowered but not necessary\n",
        "#as level increases by one the amount of overall resources is doubles\n",
        "level = 0\n",
        "#max number of days an employee can work consecutively\n",
        "max_consecutive_days_work = 0\n",
        "\n",
        "var_M = {}\n",
        "var_E = {}\n",
        "var_L = {}\n",
        "\n",
        "model = LpProblem('Shift_Scheduling', LpMaximize)\n",
        "\n",
        "def run():\n",
        "  setSensitivity()\n",
        "  print('employees-',employees,'days-', days, 'emp per shift-', min_employeepershift_val,'max days leave-',max_consecutive_days_off,'level-',level,'max days of work in a row',max_consecutive_days_work)\n",
        "  \n",
        "  global var_M\n",
        "  global var_E\n",
        "  global var_L\n",
        "  global model\n",
        "\n",
        "  #Add decision variables\n",
        "\n",
        "  #var_M = pulp.LpVariable.dicts('WorkingMorningShift', (range(days), range(employees)), 0, 1, 'Binary')\n",
        "  var_M = pulp.LpVariable.dicts('M',(range(days),range(employees)),lowBound=0,cat='Binary')\n",
        "  #var_E = pulp.LpVariable.dicts('WorkingEveningShift', (range(days), range(employees)), 0, 1, 'Binary')\n",
        "  var_E= pulp.LpVariable.dicts('E',(range(days),range(employees)),lowBound=0,cat='Binary')\n",
        "  #var_L = pulp.LpVariable.dicts('WorkingLeaveShift', (range(days), range(employees)), 0, 1, 'Binary')\n",
        "  var_L= pulp.LpVariable.dicts('L',(range(days),range(employees)),lowBound=0,cat='Binary')\n",
        "\n",
        "  #Objective function definition\n",
        "  objectivefunction = None\n",
        "  #level = 1\n",
        "  for i in range(days):\n",
        "      for j in range(employees):\n",
        "          objectivefunction += (level * var_M[i][j]) + (level * var_E[i][j]) # + var_L[i][j]\n",
        "  model += objectivefunction\n",
        "  \n",
        "  #add contraints to model\n",
        "  addConstraintOne()\n",
        "  addConstraintTwo()\n",
        "  addConstraintThree()\n",
        "  addConstraintFour()\n",
        "  addConstraintFive()\n",
        "  addConstraintSix()\n",
        "  \n",
        "  #Solve model if solvable\n",
        "  solveModel()\n",
        "\n",
        "  "
      ],
      "metadata": {
        "id": "Id2C0CMnnsqg"
      },
      "execution_count": 22,
      "outputs": []
    },
    {
      "cell_type": "code",
      "source": [
        "run()"
      ],
      "metadata": {
        "id": "5n6ccuovrFnq",
        "outputId": "e77034ed-4283-4422-940d-d70e2f427ba8",
        "colab": {
          "base_uri": "https://localhost:8080/"
        }
      },
      "execution_count": 23,
      "outputs": [
        {
          "output_type": "stream",
          "name": "stdout",
          "text": [
            "Enter number of employees that are currently hired\n",
            "8\n",
            "Enter number of days in a schedule cycle\n",
            "5\n",
            "Enter the minimum number of employees require per shift\n",
            "4\n",
            "Enter the maximum number of consecutive days an employee can be on leave for\n",
            "2\n",
            "Enter level\n",
            "1\n",
            "Enter the maximum number of consecutive days an employee can work for\n",
            "5\n",
            "employees- 8 days- 5 emp per shift- 4 max days leave- 0 level- 1 max days of work in a row 5\n",
            "Status:  Optimal\n",
            "Objective =  40.0\n"
          ]
        }
      ]
    },
    {
      "cell_type": "markdown",
      "source": [
        "Sensitivity Analysis"
      ],
      "metadata": {
        "id": "DCvIjci9tY4a"
      }
    },
    {
      "cell_type": "code",
      "source": [
        "\n",
        "o = [{'Name':name,'Constraint':c,'shadow price':c.pi,'slack': c.slack} for name, c in model.constraints.items()]\n",
        "\n",
        "print(pd.DataFrame(o))"
      ],
      "metadata": {
        "id": "SeYKHjn9tYOg",
        "outputId": "641a7d8d-f708-4e5b-db72-eb23090e2e04",
        "colab": {
          "base_uri": "https://localhost:8080/"
        }
      },
      "execution_count": 25,
      "outputs": [
        {
          "output_type": "stream",
          "name": "stdout",
          "text": [
            "      Name                       Constraint  shadow price  slack\n",
            "0      _C1   {M_0_0: 1, E_0_0: 1, L_0_0: 1}          -0.0   -0.0\n",
            "1      _C2   {M_0_1: 1, E_0_1: 1, L_0_1: 1}          -0.0   -0.0\n",
            "2      _C3   {M_0_2: 1, E_0_2: 1, L_0_2: 1}          -0.0   -0.0\n",
            "3      _C4   {M_0_3: 1, E_0_3: 1, L_0_3: 1}          -0.0   -0.0\n",
            "4      _C5   {M_0_4: 1, E_0_4: 1, L_0_4: 1}          -0.0   -0.0\n",
            "..     ...                              ...           ...    ...\n",
            "301  _C302  {L_1_6: 1, L_2_6: -1, L_3_6: 1}          -0.0   -0.0\n",
            "302  _C303  {L_2_6: 1, L_3_6: -1, L_4_6: 1}          -0.0   -0.0\n",
            "303  _C304  {L_0_7: 1, L_1_7: -1, L_2_7: 1}          -0.0   -0.0\n",
            "304  _C305  {L_1_7: 1, L_2_7: -1, L_3_7: 1}          -0.0   -0.0\n",
            "305  _C306  {L_2_7: 1, L_3_7: -1, L_4_7: 1}          -0.0   -0.0\n",
            "\n",
            "[306 rows x 4 columns]\n"
          ]
        }
      ]
    },
    {
      "cell_type": "code",
      "source": [
        "#print(model)"
      ],
      "metadata": {
        "id": "habwFa08GPtp"
      },
      "execution_count": null,
      "outputs": []
    },
    {
      "cell_type": "code",
      "source": [
        "# variables = []\n",
        "# for v in model.variables():\n",
        "#   variables.append(v.varValue)\n",
        "#   print(v.name,\"=\",v.varValue)\n"
      ],
      "metadata": {
        "id": "0vWYRhLPwfO3"
      },
      "execution_count": null,
      "outputs": []
    },
    {
      "cell_type": "code",
      "source": [
        "# dayList = ['ON MONDAY','ON TUESDAY','ON WEDNESDAY','ON THURS','ON FRIDAY','ON SATURDAY','ON SUNDAY']\n",
        "# shiftList = ['WORKING EVENING SHIFT',' WORKING MORNINGSHIFT','ON LEAVE']\n",
        "# print(len(variables))\n",
        "# print()\n",
        "# c =0\n",
        "# cs = 0\n",
        "# i = 0\n",
        "# for s in range (days*employees):\n",
        "#   if(cs>2):\n",
        "#     cs = 0\n",
        "#     print(shiftList[cs])\n",
        "#   else:\n",
        "#     print(shiftList[cs])\n",
        "#   for j in range(days):\n",
        "#     print(dayList[j],' :')\n",
        "#     for i in range(employees):\n",
        "#       if(variables[c]==1.0 and (c < len(variables))):\n",
        "#         print(\"Employee \", (i+1))\n",
        "#         print()\n",
        "#       if(i == employees):\n",
        "#         i =0\n",
        "#       c = c+1\n",
        "#   cs = cs +1"
      ],
      "metadata": {
        "id": "ZuW6pi92Cv2Q"
      },
      "execution_count": null,
      "outputs": []
    }
  ]
}